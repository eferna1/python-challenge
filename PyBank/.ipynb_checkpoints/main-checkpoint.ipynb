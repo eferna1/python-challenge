{
 "cells": [
  {
   "cell_type": "code",
   "execution_count": 6,
   "id": "78703849-c090-4ccd-a2a8-7c7e27ee74a7",
   "metadata": {
    "tags": []
   },
   "outputs": [],
   "source": [
    "import os\n",
    "import csv\n",
    "import locale"
   ]
  },
  {
   "cell_type": "code",
   "execution_count": 7,
   "id": "4d1eaa80-a76c-4b8d-890b-24ddc917df90",
   "metadata": {},
   "outputs": [
    {
     "data": {
      "text/plain": [
       "'en_US.UTF-8'"
      ]
     },
     "execution_count": 7,
     "metadata": {},
     "output_type": "execute_result"
    }
   ],
   "source": [
    "# Setting USD currency format\n",
    "locale.setlocale(locale.LC_ALL, 'en_US.UTF-8')"
   ]
  },
  {
   "cell_type": "code",
   "execution_count": 8,
   "id": "2f9e043b-345c-4cad-9e9b-0bf0a3402284",
   "metadata": {
    "tags": []
   },
   "outputs": [],
   "source": [
    "# Path to collect data from the Resources folder\n",
    "budget_csv = os.path.join(\"Resources\", \"budget_data.csv\")"
   ]
  },
  {
   "cell_type": "code",
   "execution_count": 9,
   "id": "417e8bcd-165c-4f05-8c3f-bcb31850be51",
   "metadata": {},
   "outputs": [],
   "source": [
    "# Create empty list for Date & Profit/Losses\n",
    "total_months = []\n",
    "profit = []\n",
    "total = 0\n",
    "change = []\n",
    "\n"
   ]
  },
  {
   "cell_type": "code",
   "execution_count": 10,
   "id": "eea93e5f-274e-4fde-bd99-1b6520b2f471",
   "metadata": {},
   "outputs": [],
   "source": [
    "# Read CSV file with comma as the delimiter & headers\n",
    "with open(budget_csv) as csv_file:\n",
    "    csv_reader = csv.reader(csv_file, delimiter=\",\")\n",
    "    \n",
    "    # Reading the header row \n",
    "    csv_header = next(csv_reader)\n",
    "    \n",
    "    # Read the first row below the header\n",
    "    first_row = next(csv_reader)\n",
    "    previous_profit = int(first_row[1])\n",
    "    total_months.append(first_row[0])\n",
    "    profit.append(first_row[1])\n",
    "    total = total + int(first_row[1])\n",
    "               \n",
    "       \n",
    "    # Create for loop to go thru each row \n",
    "    for row in csv_reader:\n",
    "        \n",
    "        # Find the total months\n",
    "        total_months.append(row[0])\n",
    "                                   \n",
    "        # Find total profits\n",
    "        profit.append(row[1])\n",
    "        total += int(row[1]) \n",
    "        \n",
    "        # Find the change in profit \n",
    "        change.append(int(row[1])-previous_profit)\n",
    "        previous_profit = int(row[1])\n",
    "        \n",
    "        # Find the greatest increase in profit with date\n",
    "        greatest_increase = max(change)\n",
    "        increase_date = total_months[change.index(greatest_increase)]            \n",
    "        \n",
    "        # Find the greatest decrease in profit \n",
    "        greatest_decrease = min(change)\n",
    "        decrease_date = total_months[change.index(greatest_decrease)]\n",
    "         "
   ]
  },
  {
   "cell_type": "code",
   "execution_count": 11,
   "id": "a7b14726-29fb-41ca-83f9-53fa6d9168b2",
   "metadata": {},
   "outputs": [],
   "source": [
    "# Average change in Profit/Losses\n",
    "average_change = round(sum(change)/len(change), 2)"
   ]
  },
  {
   "cell_type": "code",
   "execution_count": 12,
   "id": "297472a0-2283-4146-92c7-7af2347b301a",
   "metadata": {
    "tags": []
   },
   "outputs": [
    {
     "name": "stdout",
     "output_type": "stream",
     "text": [
      "Financial Analysis\n",
      "____________________________\n",
      "Total Months: 86\n",
      "Total: $22564198.00\n",
      "Average Change: -$8311.11\n",
      "Greatest Increase in Profits: Jul-16 $1862002.00\n",
      "Greatest Decrease in Profits: Jan-14 -$1825558.00\n"
     ]
    }
   ],
   "source": [
    "#Print financial analysis summary\n",
    "print(f\"Financial Analysis\")\n",
    "print(f\"____________________________\")\n",
    "print(f\"Total Months: {len(total_months)}\")\n",
    "print(f\"Total: {locale.currency(total)}\")\n",
    "print(f\"Average Change: {locale.currency(average_change)}\")\n",
    "print(f\"Greatest Increase in Profits: {(increase_date)} {locale.currency(greatest_increase)}\")\n",
    "print(f\"Greatest Decrease in Profits: {(decrease_date)} {locale.currency(greatest_decrease)}\")"
   ]
  },
  {
   "cell_type": "code",
   "execution_count": 13,
   "id": "35fd1af1-77d6-4de5-834a-5d7fcb1541c8",
   "metadata": {},
   "outputs": [],
   "source": [
    "# Specify the file to write to\n",
    "output_file = os.path.join(\"analysis\", \"financial_analysis.txt\")"
   ]
  },
  {
   "cell_type": "code",
   "execution_count": 14,
   "id": "a1989825-17ca-426a-8d6e-80c8b1031083",
   "metadata": {
    "tags": []
   },
   "outputs": [],
   "source": [
    "# Open the file using \"write\" mode.  \n",
    "with open(output_file, 'w') as text:\n",
    "    text.write(f\"Financial Analysis\\n\")\n",
    "    text.write(f\"____________________________\\n\")\n",
    "    text.write(f\"Total Months: {len(total_months)}\\n\")\n",
    "    text.write(f\"Total: {locale.currency(total)}\\n\")\n",
    "    text.write(f\"Average Change: {locale.currency(average_change)}\\n\")\n",
    "    text.write(f\"Greatest Increase in Profits: {(increase_date)} {locale.currency(greatest_increase)}\\n\")\n",
    "    text.write(f\"Greatest Decrease in Profits: {(decrease_date)} {locale.currency(greatest_decrease)}\")   \n",
    "    \n",
    "    "
   ]
  },
  {
   "cell_type": "code",
   "execution_count": null,
   "id": "a49dae01-28eb-44ac-99dd-4d51790e483f",
   "metadata": {},
   "outputs": [],
   "source": []
  }
 ],
 "metadata": {
  "kernelspec": {
   "display_name": "Python 3 (ipykernel)",
   "language": "python",
   "name": "python3"
  },
  "language_info": {
   "codemirror_mode": {
    "name": "ipython",
    "version": 3
   },
   "file_extension": ".py",
   "mimetype": "text/x-python",
   "name": "python",
   "nbconvert_exporter": "python",
   "pygments_lexer": "ipython3",
   "version": "3.11.5"
  }
 },
 "nbformat": 4,
 "nbformat_minor": 5
}
