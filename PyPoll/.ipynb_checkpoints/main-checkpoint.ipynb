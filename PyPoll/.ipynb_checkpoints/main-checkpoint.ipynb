{
 "cells": [
  {
   "cell_type": "code",
   "execution_count": 61,
   "id": "39ba86d3-8806-4024-acf5-2eff188b176c",
   "metadata": {
    "tags": []
   },
   "outputs": [],
   "source": [
    "import os\n",
    "import csv"
   ]
  },
  {
   "cell_type": "code",
   "execution_count": 62,
   "id": "174246f2-09ab-46ed-9b00-3d424f1d365c",
   "metadata": {
    "tags": []
   },
   "outputs": [],
   "source": [
    "# Path to collect data from the Resources folder\n",
    "election_csv = os.path.join(\"Resources\", \"election_data.csv\")"
   ]
  },
  {
   "cell_type": "code",
   "execution_count": 63,
   "id": "1311f284-f2ab-43d4-b6a5-ff6ec3f70893",
   "metadata": {},
   "outputs": [],
   "source": [
    "# keep track of list for votes & % of votes, as well as count ballots \n",
    "total_ballots = 0\n",
    "votes = {}\n",
    "percent_votes = {}\n",
    "winner = \"\"\n",
    "winner_count = 0"
   ]
  },
  {
   "cell_type": "code",
   "execution_count": 64,
   "id": "0f89a33d-2361-4475-a5bb-94c592b38582",
   "metadata": {},
   "outputs": [],
   "source": [
    "# Read CSV file with comma as the delimiter & headers\n",
    "with open(election_csv) as csv_file:\n",
    "    csv_reader = csv.reader(csv_file, delimiter=\",\")\n",
    "    \n",
    "    # Reading the header row \n",
    "    csv_header = next(csv_reader)\n",
    "    \n",
    "    # Create for loop to find total votes\n",
    "    for row in csv_reader:\n",
    "        \n",
    "        # Append to find total votes in ballot ID\n",
    "        total_ballots = total_ballots + 1\n",
    "        \n",
    "        #locate the candidate\n",
    "        candidate = row[2]\n",
    "        if candidate not in votes: \n",
    "            votes[row[2]] = 1\n",
    "        else: \n",
    "            votes[row[2]] += 1\n",
    "        \n",
    "        for key, value in votes.items(): \n",
    "            percent_votes[key] = round((value/total_ballots)* 100 , 3)\n",
    "            \n",
    "            if percent_votes[key] > winner_count:\n",
    "                winner_count = percent_votes[key]\n",
    "                winner = key            \n",
    "            \n",
    " "
   ]
  },
  {
   "cell_type": "code",
   "execution_count": 65,
   "id": "bcb4a74c-cc47-41d0-9999-d9fb476f0119",
   "metadata": {
    "tags": []
   },
   "outputs": [
    {
     "name": "stdout",
     "output_type": "stream",
     "text": [
      "Election Results\n",
      "____________________________\n",
      "Total Votes: 369711\n",
      "____________________________\n",
      "Raymon Anthony Doane: ( 3.139%) {'Charles Casper Stockham': 85213, 'Diana DeGette': 272892, 'Raymon Anthony Doane': 11606}\n",
      "Winner: {'Charles Casper Stockham'}\n"
     ]
    }
   ],
   "source": [
    "#Print \"Election Results\"\n",
    "print(f\"Election Results\")\n",
    "print(f\"____________________________\")\n",
    "print(f\"Total Votes: {total_ballots}\")\n",
    "print(f\"____________________________\")\n",
    "print(f\"{candidate}: ({percent_votes[candidate]: .3f}%) {votes}\")\n",
    "print(f\"Winner:\", {winner})\n"
   ]
  },
  {
   "cell_type": "code",
   "execution_count": null,
   "id": "25d1dc39-899a-4862-bffb-e9a6f6203a19",
   "metadata": {},
   "outputs": [],
   "source": []
  }
 ],
 "metadata": {
  "kernelspec": {
   "display_name": "Python 3 (ipykernel)",
   "language": "python",
   "name": "python3"
  },
  "language_info": {
   "codemirror_mode": {
    "name": "ipython",
    "version": 3
   },
   "file_extension": ".py",
   "mimetype": "text/x-python",
   "name": "python",
   "nbconvert_exporter": "python",
   "pygments_lexer": "ipython3",
   "version": "3.11.5"
  }
 },
 "nbformat": 4,
 "nbformat_minor": 5
}
